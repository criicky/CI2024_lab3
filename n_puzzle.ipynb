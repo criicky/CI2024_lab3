{
 "cells": [
  {
   "cell_type": "code",
   "execution_count": 188,
   "metadata": {},
   "outputs": [],
   "source": [
    "from collections import namedtuple\n",
    "from random import choice\n",
    "from tqdm.auto import tqdm\n",
    "import numpy as np\n",
    "import heapq"
   ]
  },
  {
   "cell_type": "code",
   "execution_count": 189,
   "metadata": {},
   "outputs": [],
   "source": [
    "PUZZLE_DIM = 5\n",
    "action = namedtuple('Action', ['pos_start', 'pos_end'])"
   ]
  },
  {
   "cell_type": "code",
   "execution_count": 190,
   "metadata": {},
   "outputs": [],
   "source": [
    "def possible_moves(state: np.ndarray) -> list['Action']:\n",
    "    x, y = [int(_[0]) for _ in np.where(state == 0)]\n",
    "    actions = list()\n",
    "    if x > 0:\n",
    "        actions.append(action((x, y), (x - 1, y)))\n",
    "    if x < PUZZLE_DIM - 1:\n",
    "        actions.append(action((x, y), (x + 1, y)))\n",
    "    if y > 0:\n",
    "        actions.append(action((x, y), (x, y - 1)))\n",
    "    if y < PUZZLE_DIM - 1:\n",
    "        actions.append(action((x, y), (x, y + 1)))\n",
    "    return actions\n",
    "\n",
    "\n",
    "\n",
    "def do_move(state: np.ndarray, action: 'Action') -> np.ndarray:\n",
    "    new_state = state.copy()\n",
    "    new_state[action.pos_start], new_state[action.pos_end] = new_state[action.pos_end], new_state[action.pos_start]\n",
    "    return new_state"
   ]
  },
  {
   "cell_type": "code",
   "execution_count": 191,
   "metadata": {},
   "outputs": [
    {
     "name": "stderr",
     "output_type": "stream",
     "text": [
      "100%|██████████| 100/100 [00:00<00:00, 28305.47it/s]\n"
     ]
    },
    {
     "data": {
      "text/plain": [
       "array([[ 1,  3,  8,  4,  5],\n",
       "       [12,  6, 14, 10, 15],\n",
       "       [13,  2,  9, 19,  7],\n",
       "       [11, 17, 22,  0, 20],\n",
       "       [16, 21, 23, 18, 24]])"
      ]
     },
     "execution_count": 191,
     "metadata": {},
     "output_type": "execute_result"
    }
   ],
   "source": [
    "RANDOMIZE_STEPS = 100\n",
    "puzzle = np.array([i for i in range(1, PUZZLE_DIM ** 2)] + [0]).reshape((PUZZLE_DIM, PUZZLE_DIM))\n",
    "for r in tqdm(range(RANDOMIZE_STEPS)):\n",
    "    puzzle = do_move(puzzle, choice(possible_moves(puzzle)))\n",
    "puzzle"
   ]
  },
  {
   "cell_type": "code",
   "execution_count": 192,
   "metadata": {},
   "outputs": [],
   "source": [
    "solved = np.arange(1, PUZZLE_DIM**2).tolist() + [0] # Desired result\n",
    "\n",
    "def is_goal(state: np.ndarray) -> bool:\n",
    "    return np.array_equal(state.flatten(), solved)"
   ]
  },
  {
   "cell_type": "markdown",
   "metadata": {},
   "source": [
    "## Algorithm: A Star"
   ]
  },
  {
   "cell_type": "code",
   "execution_count": 193,
   "metadata": {},
   "outputs": [],
   "source": [
    "def manhattan_distance(state: np.ndarray) -> int:\n",
    "    dist = 0\n",
    "    for i in range(PUZZLE_DIM):\n",
    "        for j in range(PUZZLE_DIM):\n",
    "            value = state[i, j]\n",
    "            if value != 0:  # Ignore the blank tile\n",
    "                target_x = (value - 1) // PUZZLE_DIM\n",
    "                target_y = (value - 1) % PUZZLE_DIM\n",
    "                dist += abs(target_x - i) + abs(target_y - j)\n",
    "    return dist\n",
    "\n",
    "def linear_conflict(state: np.ndarray) -> int:\n",
    "    conflict = 0\n",
    "    for row in range(PUZZLE_DIM):\n",
    "        row_tiles = state[row, :]\n",
    "        goal_positions = [(value - 1) % PUZZLE_DIM for value in row_tiles if value != 0]\n",
    "        conflict += count_conflicts(goal_positions)\n",
    "\n",
    "    for col in range(PUZZLE_DIM):\n",
    "        col_tiles = state[:, col]\n",
    "        goal_positions = [(value - 1) // PUZZLE_DIM for value in col_tiles if value != 0]\n",
    "        conflict += count_conflicts(goal_positions)\n",
    "\n",
    "    return conflict\n",
    "\n",
    "def count_conflicts(positions: list[int]) -> int:\n",
    "    conflicts = 0\n",
    "    for i in range(len(positions)):\n",
    "        for j in range(i + 1, len(positions)):\n",
    "            if positions[i] > positions[j]:\n",
    "                conflicts += 2\n",
    "    return conflicts\n",
    "\n",
    "def improved_heuristic(state: np.ndarray) -> int:\n",
    "    return manhattan_distance(state) + linear_conflict(state)\n"
   ]
  },
  {
   "cell_type": "code",
   "execution_count": 194,
   "metadata": {},
   "outputs": [],
   "source": [
    "import itertools\n",
    "\n",
    "def a_star_solve(state: np.ndarray):\n",
    "    open_set = []\n",
    "    counter = itertools.count()  # Unique sequence count to prevent ambiguity\n",
    "    heapq.heappush(open_set, (0, next(counter), state.copy(), [], 0))  # (priority, count, state, path, depth)\n",
    "    visited = set()\n",
    "    nodes_evaluated = 0\n",
    "\n",
    "    while open_set:\n",
    "        nodes_evaluated += 1\n",
    "        _, _, current_state, steps, depth = heapq.heappop(open_set)\n",
    "\n",
    "        if is_goal(current_state):\n",
    "            return steps, nodes_evaluated\n",
    "\n",
    "        state_tuple = tuple(current_state.flatten())\n",
    "        if state_tuple in visited:\n",
    "            continue\n",
    "        visited.add(state_tuple)\n",
    "\n",
    "        for act in possible_moves(current_state):\n",
    "            new_state = do_move(current_state, act)\n",
    "            new_state_tuple = tuple(new_state.flatten())\n",
    "            if new_state_tuple in visited:\n",
    "                continue\n",
    "\n",
    "            # Calculate the cost: g (depth) + h (heuristic)\n",
    "            g = depth + 1\n",
    "            h = manhattan_distance(new_state)\n",
    "            cost = g + h\n",
    "\n",
    "            # Add the new state with a unique counter to the heap\n",
    "            heapq.heappush(open_set, (cost, next(counter), new_state, steps + [new_state.copy()], g))\n",
    "\n",
    "    return None"
   ]
  },
  {
   "cell_type": "code",
   "execution_count": 195,
   "metadata": {},
   "outputs": [
    {
     "name": "stdout",
     "output_type": "stream",
     "text": [
      "Solution found in 34 steps:\n",
      "Solution from:\n",
      " [[ 1  3  8  4  5]\n",
      " [12  6 14 10 15]\n",
      " [13  2  9 19  7]\n",
      " [11 17 22  0 20]\n",
      " [16 21 23 18 24]] \n",
      " to:\n",
      " [[ 1  2  3  4  5]\n",
      " [ 6  7  8  9 10]\n",
      " [11 12 13 14 15]\n",
      " [16 17 18 19 20]\n",
      " [21 22 23 24  0]]\n",
      "Nodes evaluated: 4594\n"
     ]
    }
   ],
   "source": [
    "# Solve the puzzle using DFS\n",
    "solution, nodes_evaluated = a_star_solve(puzzle)\n",
    "if solution:\n",
    "    print(f\"Solution found in {len(solution)} steps:\")\n",
    "    print(\"Solution from:\\n\", puzzle, \"\\n to:\\n\", solution[-1])\n",
    "    print(\"Nodes evaluated:\", nodes_evaluated)\n",
    "else:\n",
    "    print(\"No solution found with the current starting state.\")"
   ]
  },
  {
   "cell_type": "markdown",
   "metadata": {},
   "source": [
    "## Algorithm: IDDFS\n",
    "\n",
    "Not actually working for 4x4 and over\n"
   ]
  },
  {
   "cell_type": "code",
   "execution_count": 196,
   "metadata": {},
   "outputs": [],
   "source": [
    "def dfs_solve(state: np.ndarray, max_depth: int = 150):\n",
    "\n",
    "    stack = [(state.copy(), [state.copy()], 0)]\n",
    "    visited = set()\n",
    "\n",
    "    while stack:\n",
    "        current_state, steps, depth = stack.pop()\n",
    "\n",
    "        if depth > max_depth:\n",
    "            continue\n",
    "        if is_goal(current_state):\n",
    "            return steps\n",
    "\n",
    "        # Mark the current state as visited\n",
    "        state_tuple = tuple(current_state.flatten())\n",
    "        if state_tuple in visited:\n",
    "            continue\n",
    "        visited.add(state_tuple)\n",
    "\n",
    "        # Explore valid actions\n",
    "        for act in possible_moves(current_state):\n",
    "            new_state = do_move(current_state, act)\n",
    "\n",
    "            if any(np.array_equal(new_state, visited_state) for visited_state in steps):\n",
    "                continue\n",
    "\n",
    "            stack.append((new_state, steps + [new_state.copy()], depth + 1))\n",
    "\n",
    "    return None"
   ]
  },
  {
   "cell_type": "code",
   "execution_count": 197,
   "metadata": {},
   "outputs": [],
   "source": [
    "def iddfs_solve(state: np.ndarray, max_depth: int = 150):\n",
    "    for depth in range(max_depth + 1):\n",
    "        result = dfs_solve(state, max_depth=depth)\n",
    "        if result:\n",
    "            return result\n",
    "    return None"
   ]
  },
  {
   "cell_type": "code",
   "execution_count": null,
   "metadata": {},
   "outputs": [],
   "source": [
    "# Solve the puzzle using IDDFS\n",
    "solution = iddfs_solve(puzzle)\n",
    "if solution:\n",
    "    print(f\"Solution found in {len(solution)} steps:\")\n",
    "    for step in solution:\n",
    "        print(step, \"\\n\")\n",
    "else:\n",
    "    print(\"No solution found with the current starting state.\")\n"
   ]
  }
 ],
 "metadata": {
  "kernelspec": {
   "display_name": "testCI",
   "language": "python",
   "name": "python3"
  },
  "language_info": {
   "codemirror_mode": {
    "name": "ipython",
    "version": 3
   },
   "file_extension": ".py",
   "mimetype": "text/x-python",
   "name": "python",
   "nbconvert_exporter": "python",
   "pygments_lexer": "ipython3",
   "version": "3.12.6"
  }
 },
 "nbformat": 4,
 "nbformat_minor": 2
}
